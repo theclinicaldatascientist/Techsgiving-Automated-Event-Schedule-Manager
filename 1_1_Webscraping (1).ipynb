{
  "nbformat": 4,
  "nbformat_minor": 0,
  "metadata": {
    "colab": {
      "provenance": []
    },
    "kernelspec": {
      "name": "python3",
      "display_name": "Python 3"
    },
    "language_info": {
      "name": "python"
    }
  },
  "cells": [
    {
      "cell_type": "markdown",
      "metadata": {
        "id": "view-in-github"
      },
      "source": [
        "<a href=\"https://colab.research.google.com/github/TeneikaAskew/automating-web-scraping-text-calendar-notifications/blob/main/1_1_Webscraping.ipynb\" target=\"_parent\"><img src=\"https://colab.research.google.com/assets/colab-badge.svg\" alt=\"Open In Colab\"/></a>"
      ]
    },
    {
      "cell_type": "code",
      "source": [],
      "metadata": {
        "id": "raO_eE5nwzTr"
      },
      "execution_count": null,
      "outputs": []
    },
    {
      "cell_type": "markdown",
      "source": [
        "# Purpose of the Script\n",
        "This script is designed to scrape session data from the **Techsgiving Summit** website and then store it into a Google Sheet. The script performs the following tasks:\n",
        "\n",
        "1. **Scrape HTML**: The HTML content of the summit's schedule page is fetched and processed.\n",
        "2. **Extract Session Data**: Key information such as session title, start time, end time, track, description, speakers, and location are extracted from the HTML.\n",
        "3. **Store Data in Google Sheets**: The extracted session data is stored in a Google Sheet for further use, with added data validation for the \"Planning to Go?\" column.\n",
        "4. **Log Extracted Data**: The data is logged to the console for debugging purposes.\n",
        "\n",
        "**Developer**: Dakota Smith\n",
        "\n"
      ],
      "metadata": {
        "id": "bE8FOZTLg_PM"
      }
    },
    {
      "cell_type": "code",
      "source": [
        "# @title\n",
        "%%javascript\n",
        "\n",
        "function parseHTMLtoData(html) {\n",
        "  const url = \"https://www.techsgivingsummit.com/schedule\"; // Replace with your actual URL\n",
        "\n",
        "  // Fetch the HTML content\n",
        "  const response = UrlFetchApp.fetch(url);\n",
        "  html = response.getContentText();//.replace(/ w--tab-active/g, '');//.replace(' w--tab-active','');\n",
        "  // console.log(html.substring(13000, 13061))\n",
        "  // console.log(html.substring(24759, 25759))\n",
        "\n",
        "  // Find all occurrences of '<div class=\"w-tab-content'\n",
        "  const indices = [];\n",
        "  let startIndex = html.indexOf('w-tab-pane');\n",
        "  while (startIndex !== -1) {\n",
        "    indices.push(startIndex-75);\n",
        "    startIndex = html.indexOf('w-tab-pane', startIndex + 1);\n",
        "  }\n",
        "\n",
        "  console.log(\"Indices of '<div class=\\\"w-tab-pane':\", indices);\n",
        "\n",
        "  // Split the HTML into sections based on the indices\n",
        "  const sections = [];\n",
        "  for (let i = 0; i < indices.length; i++) {\n",
        "    const start = indices[i];\n",
        "    const end = i < indices.length - 1 ? indices[i + 1] : html.length; // Use the next index or the end of the HTML\n",
        "    sections.push(html.substring(start, end));\n",
        "    // console.log(`Section ${i + 1}:`, sections);\n",
        "  }\n",
        "  console.log(`Total Sections Found: ${sections.length}`);\n",
        "\n",
        "  // Process each section to extract tabs and sessions\n",
        "  const sessions = [];\n",
        "  sections.forEach((section, index) => {\n",
        "    // Extract tab name\n",
        "    //  console.log(section.substring(0, 150));\n",
        "    // const dateMatch = section.match(/data-w-tab=\"([^\"]+)\"/);\n",
        "    // Look for the first data-w-tab in the section\n",
        "    const dateMatch = section.match(/data-w-tab=\"([^\"]+)\"/);\n",
        "    if (dateMatch) {\n",
        "      console.log(`Section ${index + 1} Matched Date:`, dateMatch[1]);\n",
        "      // console.log(`Section Content Preview:`, section.substring(0, 500)); // Log the surrounding context\n",
        "    } else {\n",
        "      console.log(`No date found in Section ${index + 1}`);\n",
        "    }\n",
        "    const currentDate = dateMatch ? dateMatch[1].replace(\"th\", \", 2024\") : \"Unknown\";\n",
        "    // console.log(`Processing Section ${index + 1}: Tab Name - ${currentDate}`);\n",
        "\n",
        "    // Regex to extract tabs with their `data-w-tab` attribute and sessions\n",
        "    const sessionRegex = /<div class=\"speaker-session-wrapper\">([\\s\\S]*?)(?=<div class=\"speaker-session-wrapper\"|<\\/div><\\/div><\\/div><\\/div>)/g;\n",
        "    const sessionMatches = section.match(sessionRegex);\n",
        "\n",
        "    if (sessionMatches) {\n",
        "      sessionMatches.forEach(sessionHtml => {\n",
        "        // Field regexes\n",
        "        const timeStartRegex = /<div class=\"text-block-230\">(.*?)<\\/div>/;\n",
        "        const timeEndRegex = /<div class=\"text-block-230 end\">(.*?)<\\/div>/;\n",
        "        const trackRegex = /<div[^>]*class=\"session-track\"[^>]*>(.*?)<\\/div>/;\n",
        "        const titleRegex = /<h1 class=\"session-ttitle\">(.*?)<\\/h1>/;\n",
        "        const descriptionRegex = /<p class=\"paragraph-8\">(.*?)<\\/p>/;\n",
        "        const speakerRegex = /<div class=\"session-speaker\">(.*?)<\\/div>/g;\n",
        "        const locationRegex = /<div class=\"session-location\">\\s*<a[^>]*>(.*?)<\\/a>/;\n",
        "\n",
        "        // Extract individual fields\n",
        "        const timeStartRaw = extractField(sessionHtml, timeStartRegex);\n",
        "        const timeStart = timeStartRaw ? timeStartRaw.replace('-', '') : null;\n",
        "        const timeEnd = extractField(sessionHtml, timeEndRegex);\n",
        "        const track = extractField(sessionHtml, trackRegex);\n",
        "        const title = extractField(sessionHtml, titleRegex);\n",
        "        const description = extractField(sessionHtml, descriptionRegex);\n",
        "\n",
        "      // Extract multiple speakers\n",
        "      const speakers = [];\n",
        "      let speakerMatch;\n",
        "      while ((speakerMatch = speakerRegex.exec(sessionHtml.replace('session-speaker name', 'session-speaker'))) !== null) {\n",
        "        speakers.push(speakerMatch[1].trim());\n",
        "        console.log(speakers)\n",
        "      }\n",
        "      const speakersString = speakers.join(\", \"); // Join speakers with a comma and space\n",
        "      console.log(speakersString)\n",
        "\n",
        "      const location = extractField(sessionHtml, locationRegex).replace('<div class=\"text-block-231\">','').replace('</div>','');\n",
        "\n",
        "      // Only include sessions with at least time_start and title\n",
        "      if (timeStart || title) {\n",
        "        sessions.push({\n",
        "          date: currentDate, // Add the event day\n",
        "          time_start: timeStart,\n",
        "          time_end: timeEnd,\n",
        "          track,\n",
        "          title,\n",
        "          speakers: speakersString,\n",
        "          description,\n",
        "          location,\n",
        "          });\n",
        "        }\n",
        "      });\n",
        "    } else {\n",
        "      console.log(`No sessions found for ${tabName}`);\n",
        "    }\n",
        "  });\n",
        "  // Log the extracted data\n",
        "  Logger.log(JSON.stringify(sessions, null, 2));\n",
        "\n",
        "  // Step 5: Write data to Google Sheets\n",
        "  const sheetName = \"AppScript_Sessions\";\n",
        "  let sheet = SpreadsheetApp.getActiveSpreadsheet().getSheetByName(sheetName);\n",
        "  if (!sheet) {\n",
        "    sheet = SpreadsheetApp.getActiveSpreadsheet().insertSheet(sheetName);\n",
        "  }\n",
        "  sheet.clear();\n",
        "  sheet.appendRow([\"Date\",\"Start Time\", \"End Time\", \"Track\", \"Title\", \"Speakers\", \"Description\", \"Location\", \"Planning to Go?\"]);\n",
        "  sessions.forEach(session => {\n",
        "    sheet.appendRow([\n",
        "      session.date,\n",
        "      session.time_start,\n",
        "      session.time_end,\n",
        "      session.track,\n",
        "      session.title,\n",
        "      session.speakers,\n",
        "      session.description,\n",
        "      session.location,\n",
        "    ]);\n",
        "  });\n",
        "\n",
        "  // Add data validation to \"Planning to Go?\" column\n",
        "  const validationRange = sheet.getRange(2, 9, sheet.getLastRow() - 1); // \"Planning to Go?\" column (I)\n",
        "  const rule = SpreadsheetApp.newDataValidation()\n",
        "    .requireValueInList([\"Yes\", \"No\"], true)\n",
        "    .setAllowInvalid(false)\n",
        "    .build();\n",
        "  validationRange.setDataValidation(rule);\n",
        "  return sessions;\n",
        "}\n",
        "\n",
        "function extractField(html, regex) {\n",
        "  const match = html.match(regex);\n",
        "  return match ? match[1].trim() : null;\n",
        "}\n",
        "\n",
        "function testRegexInAppScript() {\n",
        "  const htmlSnippet = '<div class=\"w-tab-content\"><div class=\"w-tab-pane w--tab-active\" data-w-tab=\"December 11th\" id=\"Tab-1\"><div class=\"december-11-wrapper\"><div class=\"collection-list-wrapper-2 w-dyn-list\"><div class=\"w-tab-pane\" data-w-tab=\"December 12th\"><div class=\"december-12th-wrapper\" id=\"D\">';\n",
        "\n",
        "  // Regex to match the data-w-tab attribute\n",
        "  const tabNameRegex = /data-w-tab=\"([^\"]+)\"/;\n",
        "\n",
        "  // Extract the match\n",
        "  const match = htmlSnippet.match(tabNameRegex);\n",
        "  if (match) {\n",
        "    Logger.log(`Extracted tab name: ${match[1]}`);\n",
        "  } else {\n",
        "    Logger.log(\"No match found.\");\n",
        "  }\n",
        "}\n"
      ],
      "metadata": {
        "id": "m6tE6qU8hkxj"
      },
      "execution_count": null,
      "outputs": []
    },
    {
      "cell_type": "markdown",
      "source": [
        "\n",
        "\n",
        "### Breakdown of the Function:\n",
        "\n",
        "\n",
        "1. **Fetching HTML Content:**\n",
        "   - The function begins by fetching the HTML content of the summit schedule page using `UrlFetchApp.fetch()`.\n",
        "   - The HTML content is then retrieved using `.getContentText()` and stored in the variable `html`.\n"
      ],
      "metadata": {
        "id": "r-bSPNhwhFth"
      }
    },
    {
      "cell_type": "code",
      "source": [
        "%%javascript\n",
        "function parseHTMLtoData(html) {\n",
        "  const url = \"https://www.techsgivingsummit.com/schedule\"; // Replace with your actual URL\n",
        "\n",
        "  // Fetch the HTML content\n",
        "  const response = UrlFetchApp.fetch(url);\n",
        "  html = response.getContentText();//.replace(/ w--tab-active/g, '');//.replace(' w--tab-active','');\n",
        "  // console.log(html.substring(13000, 13061))\n",
        "  // console.log(html.substring(24759, 25759))"
      ],
      "metadata": {
        "id": "2MreLexMhme8"
      },
      "execution_count": null,
      "outputs": []
    },
    {
      "cell_type": "markdown",
      "source": [
        "2. **Identifying Section Indices:**\n",
        "   - The function looks for all occurrences of the `<div class=\"w-tab-pane\"` HTML tag, which is used to mark different sections of the page.\n",
        "   - The `indexOf()` method is used to find each occurrence, and the starting indices are saved in the `indices` array. This array will help split the HTML into sections later on.\n"
      ],
      "metadata": {
        "id": "NZd2mb8mhGmu"
      }
    },
    {
      "cell_type": "code",
      "source": [
        "%%javascript\n",
        "  // Find all occurrences of '<div class=\"w-tab-content'\n",
        "  const indices = [];\n",
        "  let startIndex = html.indexOf('w-tab-pane');\n",
        "  while (startIndex !== -1) {\n",
        "    indices.push(startIndex-75);\n",
        "    startIndex = html.indexOf('w-tab-pane', startIndex + 1);\n",
        "  }\n",
        "\n",
        "  console.log(\"Indices of '<div class=\\\"w-tab-pane':\", indices);"
      ],
      "metadata": {
        "id": "Z7-B-Yj6l70U"
      },
      "execution_count": null,
      "outputs": []
    },
    {
      "cell_type": "markdown",
      "source": [
        "3. **Splitting HTML Into Sections:**\n",
        "   - The HTML content is split into individual sections using the indices found in the previous step. Each section corresponds to a distinct tab of the summit schedule (e.g., different dates).\n",
        "   - The HTML for each section is extracted using `substring()` and stored in the `sections` array."
      ],
      "metadata": {
        "id": "5Y5Ut8cyhGf9"
      }
    },
    {
      "cell_type": "code",
      "source": [
        "%%javascript\n",
        "  // Process each section to extract tabs and sessions\n",
        "  const sessions = [];"
      ],
      "metadata": {
        "id": "DUfg3jNplTeA"
      },
      "execution_count": null,
      "outputs": []
    },
    {
      "cell_type": "markdown",
      "source": [
        "4. **Processing Each Section:**\n",
        "   - The function loops through each section and extracts the tab name (which corresponds to a specific date).\n",
        "   - The tab name is retrieved using a regular expression (`data-w-tab=\"([^\"]+)\"`), which matches the `data-w-tab` attribute that holds the date information.\n"
      ],
      "metadata": {
        "id": "XkUbbYVbhGch"
      }
    },
    {
      "cell_type": "code",
      "source": [
        "%%javascript\n",
        "  sections.forEach((section, index) => {\n",
        "    // Extract tab name\n",
        "    //  console.log(section.substring(0, 150));\n",
        "    // const dateMatch = section.match(/data-w-tab=\"([^\"]+)\"/);\n",
        "    // Look for the first data-w-tab in the section"
      ],
      "metadata": {
        "id": "PFGEjq-8lAAq"
      },
      "execution_count": null,
      "outputs": []
    },
    {
      "cell_type": "markdown",
      "source": [
        "5. **Extracting Session Details:**\n",
        "   - For each section, the function uses regular expressions to extract session details:\n",
        "     - **Time**: Extracted using the regex `/<div class=\"text-block-230\">(.*?)<\\/div>/`.\n",
        "     - **Track**: Extracted using the regex `/<div[^>]*class=\"session-track\"[^>]*>(.*?)<\\/div>/`.\n",
        "     - **Title**: Extracted using the regex `/<h1 class=\"session-ttitle\">(.*?)<\\/h1>/`.\n",
        "     - **Description**: Extracted using the regex `/<p class=\"paragraph-8\">(.*?)<\\/p>/`.\n",
        "     - **Speakers**: Extracted using the regex `/<div class=\"session-speaker\">(.*?)<\\/div>/g` to match multiple speakers.\n",
        "     - **Location**: Extracted using the regex `/<div class=\"session-location\">\\s*<a[^>]*>(.*?)<\\/a>/`.\n"
      ],
      "metadata": {
        "id": "TEDe3VbLhduD"
      }
    },
    {
      "cell_type": "code",
      "source": [
        "  %%javascript\n",
        "    const dateMatch = section.match(/data-w-tab=\"([^\"]+)\"/);\n",
        "    if (dateMatch) {\n",
        "      console.log(`Section ${index + 1} Matched Date:`, dateMatch[1]);\n",
        "      // console.log(`Section Content Preview:`, section.substring(0, 500)); // Log the surrounding context\n",
        "    } else {\n",
        "      console.log(`No date found in Section ${index + 1}`);\n",
        "    }\n",
        "    const currentDate = dateMatch ? dateMatch[1].replace(\"th\", \", 2024\") : \"Unknown\";\n",
        "    // console.log(`Processing Section ${index + 1}: Tab Name - ${currentDate}`);\n",
        "\n",
        "    // Regex to extract tabs with their `data-w-tab` attribute and sessions\n",
        "    const sessionRegex = /<div class=\"speaker-session-wrapper\">([\\s\\S]*?)(?=<div class=\"speaker-session-wrapper\"|<\\/div><\\/div><\\/div><\\/div>)/g;\n",
        "    const sessionMatches = section.match(sessionRegex);"
      ],
      "metadata": {
        "id": "JRR9Kk2Ck-lq"
      },
      "execution_count": null,
      "outputs": []
    },
    {
      "cell_type": "markdown",
      "source": [
        "6. **Storing Extracted Data:**\n",
        "   - If a session contains at least a title or start time, it is added to the `sessions` array.\n",
        "   - Each session object contains the following fields:\n",
        "     - `date`: The date of the session.\n",
        "     - `time_start`: The start time of the session.\n",
        "     - `time_end`: The end time of the session.\n",
        "     - `track`: The track/category of the session.\n",
        "     - `title`: The title of the session.\n",
        "     - `speakers`: A string containing the names of the session's speakers.\n",
        "     - `description`: A brief description of the session.\n",
        "     - `location`: The location of the session."
      ],
      "metadata": {
        "id": "xV4XhYWthGXQ"
      }
    },
    {
      "cell_type": "code",
      "source": [
        "%%javascript\n",
        "    if (sessionMatches) {\n",
        "      sessionMatches.forEach(sessionHtml => {\n",
        "        // Field regexes\n",
        "        const timeStartRegex = /<div class=\"text-block-230\">(.*?)<\\/div>/;\n",
        "        const timeEndRegex = /<div class=\"text-block-230 end\">(.*?)<\\/div>/;\n",
        "        const trackRegex = /<div[^>]*class=\"session-track\"[^>]*>(.*?)<\\/div>/;\n",
        "        const titleRegex = /<h1 class=\"session-ttitle\">(.*?)<\\/h1>/;\n",
        "        const descriptionRegex = /<p class=\"paragraph-8\">(.*?)<\\/p>/;\n",
        "        const speakerRegex = /<div class=\"session-speaker\">(.*?)<\\/div>/g;\n",
        "        const locationRegex = /<div class=\"session-location\">\\s*<a[^>]*>(.*?)<\\/a>/;\n",
        "\n",
        "        // Extract individual fields\n",
        "        const timeStartRaw = extractField(sessionHtml, timeStartRegex);\n",
        "        const timeStart = timeStartRaw ? timeStartRaw.replace('-', '') : null;\n",
        "        const timeEnd = extractField(sessionHtml, timeEndRegex);\n",
        "        const track = extractField(sessionHtml, trackRegex);\n",
        "        const title = extractField(sessionHtml, titleRegex);\n",
        "        const description = extractField(sessionHtml, descriptionRegex);\n",
        "\n",
        "      // Extract multiple speakers\n",
        "      const speakers = [];\n",
        "      let speakerMatch;\n",
        "      while ((speakerMatch = speakerRegex.exec(sessionHtml.replace('session-speaker name', 'session-speaker'))) !== null) {\n",
        "        speakers.push(speakerMatch[1].trim());\n",
        "        console.log(speakers)\n",
        "      }\n",
        "      const speakersString = speakers.join(\", \"); // Join speakers with a comma and space\n",
        "      console.log(speakersString)\n",
        "\n",
        "      const location = extractField(sessionHtml, locationRegex).replace('<div class=\"text-block-231\">','').replace('</div>','');\n",
        "\n",
        "      // Only include sessions with at least time_start and title\n",
        "      if (timeStart || title) {\n",
        "        sessions.push({\n",
        "          date: currentDate, // Add the event day\n",
        "          time_start: timeStart,\n",
        "          time_end: timeEnd,\n",
        "          track,\n",
        "          title,\n",
        "          speakers: speakersString,\n",
        "          description,\n",
        "          location,\n",
        "          });\n",
        "        }\n",
        "      });\n",
        "    } else {\n",
        "      console.log(`No sessions found for ${tabName}`);\n",
        "    }\n",
        "  });"
      ],
      "metadata": {
        "id": "dNoxn7yQkwyH"
      },
      "execution_count": null,
      "outputs": []
    },
    {
      "cell_type": "markdown",
      "source": [
        "7. **Logging Extracted Data:**\n",
        "   - The extracted session data is logged using `Logger.log()`, which outputs the data in JSON format for debugging and validation."
      ],
      "metadata": {
        "id": "STDzOdMEhGVA"
      }
    },
    {
      "cell_type": "code",
      "source": [
        "  %%javascript\n",
        "  // Log the extracted data\n",
        "  Logger.log(JSON.stringify(sessions, null, 2));"
      ],
      "metadata": {
        "id": "wiEJy3uXky3V"
      },
      "execution_count": null,
      "outputs": []
    },
    {
      "cell_type": "markdown",
      "source": [
        "8. **Writing Data to Google Sheets:**\n",
        "   - After processing all sections and extracting session details, the function writes the session data to a Google Sheet named `\"AppScript_Sessions\"`.\n",
        "   - If the sheet does not already exist, it is created using `insertSheet()`. The sheet is cleared, and new headers are added to the first row.\n",
        "   - The session data is written to the sheet, with each row representing a session."
      ],
      "metadata": {
        "id": "TvdL9zf8hGSv"
      }
    },
    {
      "cell_type": "code",
      "source": [
        "%%javascript\n",
        "  // Step 5: Write data to Google Sheets\n",
        "  const sheetName = \"AppScript_Sessions\";\n",
        "  let sheet = SpreadsheetApp.getActiveSpreadsheet().getSheetByName(sheetName);\n",
        "  if (!sheet) {\n",
        "    sheet = SpreadsheetApp.getActiveSpreadsheet().insertSheet(sheetName);\n",
        "  }\n",
        "  sheet.clear();\n",
        "  sheet.appendRow([\"Date\",\"Start Time\", \"End Time\", \"Track\", \"Title\", \"Speakers\", \"Description\", \"Location\", \"Planning to Go?\"]);\n",
        "  sessions.forEach(session => {\n",
        "    sheet.appendRow([\n",
        "      session.date,\n",
        "      session.time_start,\n",
        "      session.time_end,\n",
        "      session.track,\n",
        "      session.title,\n",
        "      session.speakers,\n",
        "      session.description,\n",
        "      session.location,\n",
        "    ]);\n",
        "  });"
      ],
      "metadata": {
        "id": "a1d07IfQkpWk"
      },
      "execution_count": null,
      "outputs": []
    },
    {
      "cell_type": "markdown",
      "source": [
        "9. **Adding Data Validation:**\n",
        "   - The function adds data validation to the \"Planning to Go?\" column in the sheet. Users are allowed to select either \"Yes\" or \"No\" from a dropdown in this column.\n"
      ],
      "metadata": {
        "id": "3tfs8fGjkIta"
      }
    },
    {
      "cell_type": "code",
      "source": [
        "  %%javascript\n",
        "  // Add data validation to \"Planning to Go?\" column\n",
        "  const validationRange = sheet.getRange(2, 9, sheet.getLastRow() - 1); // \"Planning to Go?\" column (I)\n",
        "  const rule = SpreadsheetApp.newDataValidation()\n",
        "    .requireValueInList([\"Yes\", \"No\"], true)\n",
        "    .setAllowInvalid(false)\n",
        "    .build();\n",
        "  validationRange.setDataValidation(rule);"
      ],
      "metadata": {
        "id": "7meaY-YPmWTv"
      },
      "execution_count": null,
      "outputs": []
    },
    {
      "cell_type": "markdown",
      "source": [
        "10. **Returning Session Data:**\n",
        "    - Finally, the function returns the `sessions` array containing all the extracted and processed session details.\n"
      ],
      "metadata": {
        "id": "g5VXVnO9kKP4"
      }
    },
    {
      "cell_type": "code",
      "source": [
        "%%javascript\n",
        "  return sessions;\n",
        "}"
      ],
      "metadata": {
        "id": "kOb0m4Hambri"
      },
      "execution_count": null,
      "outputs": []
    },
    {
      "cell_type": "markdown",
      "source": [
        "### Example of Workflow:\n",
        "- **Input:** The HTML content of the summit's schedule page..\n",
        "- **Process:** The HTML is parsed, sections are identified, session details are extracted, and the data is structured.\n",
        "- **Output:**  The session data is written to a Google Sheet, and data validation is applied to ensure users can select \"Yes\" or \"No\" for the \"Planning to Go?\" column.\n",
        "\n"
      ],
      "metadata": {
        "id": "uT-kE5EuhGOk"
      }
    },
    {
      "cell_type": "code",
      "execution_count": null,
      "metadata": {
        "id": "ShPX2ud_g6yL"
      },
      "outputs": [],
      "source": [
        "\n",
        "function extractField(html, regex) {\n",
        "  const match = html.match(regex);\n",
        "  return match ? match[1].trim() : null;\n",
        "}"
      ]
    },
    {
      "cell_type": "markdown",
      "source": [
        "# Function: `testRegexInAppScript()`\n",
        "\n",
        "### Purpose:\n",
        "The `testRegexInAppScript()` function is designed to test a regular expression that matches the `data-w-tab` attribute in a given HTML snippet. The function extracts the value of the `data-w-tab` attribute (which typically holds the tab name or date, e.g., \"December 11th\") and logs it to the console. If no match is found, it logs a message indicating that no match was found.\n",
        "\n",
        "### Breakdown of the Function:\n",
        "\n",
        "1. **HTML Snippet:**\n",
        "   - The function starts by defining a string called `htmlSnippet` which contains a portion of HTML. This HTML includes several `div` elements, some of which have the `data-w-tab` attribute with values like `\"December 11th\"` and `\"December 12th\"`.\n",
        "   - This snippet is a simplified example that mimics a real HTML structure you might encounter in a webpage.\n",
        "\n",
        "2. **Regular Expression Definition:**\n",
        "   - The function defines a regular expression (`tabNameRegex`) designed to match the value of the `data-w-tab` attribute. The regular expression is:\n",
        "     ```javascript\n",
        "     const tabNameRegex = /data-w-tab=\"([^\"]+)\"/;\n",
        "     ```\n",
        "     - **`data-w-tab=\"([^\"]+)\"`**:\n",
        "       - `data-w-tab=\"`: Matches the literal string `data-w-tab=\"`.\n",
        "       - `([^\"]+)`: A capturing group that matches one or more characters that are not a quote (`\"`), which corresponds to the value of the `data-w-tab` attribute (e.g., \"December 11th\").\n",
        "       - `\"`: Matches the closing quote of the `data-w-tab` attribute value.\n",
        "\n",
        "3. **Matching the Regular Expression:**\n",
        "   - The function then applies the regular expression to the `htmlSnippet` using the `match()` method:\n",
        "     ```javascript\n",
        "     const match = htmlSnippet.match(tabNameRegex);\n",
        "     ```\n",
        "   - The `match()` method searches the `htmlSnippet` string for any occurrences of the `data-w-tab` attribute and returns an array if a match is found. The first element of this array contains the entire matched string, and the second element (accessed by `match[1]`) contains the value of the `data-w-tab` attribute.\n",
        "\n",
        "4. **Logging the Extracted Value:**\n",
        "   - If the `match()` method returns a valid match, the function logs the extracted value (the `data-w-tab` attribute value) to the console:\n",
        "     ```javascript\n",
        "     Logger.log(`Extracted tab name: ${match[1]}`);\n",
        "     ```\n",
        "   - If no match is found, the function logs the message \"No match found.\" to indicate that the regular expression did not find any `data-w-tab` attribute in the HTML snippet.\n",
        "\n",
        "### Example of Workflow:\n",
        "- **Input:** The `htmlSnippet` contains the HTML string with multiple `div` elements, including those with `data-w-tab=\"December 11th\"` and `data-w-tab=\"December 12th\"`.\n",
        "- **Process:** The regular expression is applied to the HTML snippet, and the `data-w-tab` attribute values are extracted.\n",
        "- **Output:** The function logs the extracted tab name (e.g., `\"December 11th\"`) if a match is found, or it logs \"No match found.\" if there is no match.\n",
        "\n",
        "### Expected Output:\n",
        "For the given `htmlSnippet`, the expected output would be:\n"
      ],
      "metadata": {
        "id": "a3b8jkcXmrUE"
      }
    },
    {
      "cell_type": "code",
      "source": [
        "%%javascript\n",
        "function testRegexInAppScript() {\n",
        "  const htmlSnippet = '<div class=\"w-tab-content\"><div class=\"w-tab-pane w--tab-active\" data-w-tab=\"December 11th\" id=\"Tab-1\"><div class=\"december-11-wrapper\"><div class=\"collection-list-wrapper-2 w-dyn-list\"><div class=\"w-tab-pane\" data-w-tab=\"December 12th\"><div class=\"december-12th-wrapper\" id=\"D\">';\n",
        "\n",
        "  // Regex to match the data-w-tab attribute\n",
        "  const tabNameRegex = /data-w-tab=\"([^\"]+)\"/;\n",
        "\n",
        "  // Extract the match\n",
        "  const match = htmlSnippet.match(tabNameRegex);\n",
        "  if (match) {\n",
        "    Logger.log(`Extracted tab name: ${match[1]}`);\n",
        "  } else {\n",
        "    Logger.log(\"No match found.\");\n",
        "  }\n",
        "}\n"
      ],
      "metadata": {
        "id": "IlDgwWMPmoQV"
      },
      "execution_count": null,
      "outputs": []
    }
  ]
}